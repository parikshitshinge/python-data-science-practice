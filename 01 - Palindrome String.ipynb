{
 "cells": [
  {
   "cell_type": "code",
   "execution_count": 3,
   "metadata": {},
   "outputs": [
    {
     "name": "stdout",
     "output_type": "stream",
     "text": [
      "Please enter any string: tattarrattat\n",
      "\n",
      "Your string: 'tattarrattat' is Palindrome\n"
     ]
    }
   ],
   "source": [
    "import copy\n",
    "def isPalindrome(original):\n",
    "    reversed = ''\n",
    "    for i in range(1,len(original)+1):\n",
    "        reversed = reversed + original[-i]\n",
    "    return True if original.lower() == reversed.lower() else False\n",
    "        \n",
    "original = input(\"Please enter any string: \")\n",
    "copy = copy.deepcopy(original)\n",
    "print(\"\\nYour string: '{0}'\".format(copy), end='')\n",
    "print(\" is Palindrome\" if isPalindrome(original) else \" is not Palindrome\")"
   ]
  },
  {
   "cell_type": "code",
   "execution_count": null,
   "metadata": {},
   "outputs": [],
   "source": []
  },
  {
   "cell_type": "code",
   "execution_count": null,
   "metadata": {},
   "outputs": [],
   "source": []
  }
 ],
 "metadata": {
  "kernelspec": {
   "display_name": "Python 3",
   "language": "python",
   "name": "python3"
  },
  "language_info": {
   "codemirror_mode": {
    "name": "ipython",
    "version": 3
   },
   "file_extension": ".py",
   "mimetype": "text/x-python",
   "name": "python",
   "nbconvert_exporter": "python",
   "pygments_lexer": "ipython3",
   "version": "3.8.5"
  }
 },
 "nbformat": 4,
 "nbformat_minor": 4
}
