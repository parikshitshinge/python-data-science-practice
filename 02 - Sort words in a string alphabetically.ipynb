{
 "cells": [
  {
   "cell_type": "code",
   "execution_count": 12,
   "metadata": {},
   "outputs": [
    {
     "name": "stdout",
     "output_type": "stream",
     "text": [
      "Enter a sentence: zzz well my name is parikshit but you can call me on 98765432\n",
      "98765432 but call can is me my name on parikshit well you zzz\n"
     ]
    }
   ],
   "source": [
    "def sortedString(original):\n",
    "    splitStr = original.split()\n",
    "    return ' '.join(sorted(splitStr))\n",
    "    \n",
    "original = input(\"Enter a sentence: \")\n",
    "print(sortedString(original))"
   ]
  },
  {
   "cell_type": "code",
   "execution_count": null,
   "metadata": {},
   "outputs": [],
   "source": []
  }
 ],
 "metadata": {
  "kernelspec": {
   "display_name": "Python 3",
   "language": "python",
   "name": "python3"
  },
  "language_info": {
   "codemirror_mode": {
    "name": "ipython",
    "version": 3
   },
   "file_extension": ".py",
   "mimetype": "text/x-python",
   "name": "python",
   "nbconvert_exporter": "python",
   "pygments_lexer": "ipython3",
   "version": "3.8.5"
  }
 },
 "nbformat": 4,
 "nbformat_minor": 4
}
